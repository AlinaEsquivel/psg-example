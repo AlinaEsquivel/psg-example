{
 "cells": [
  {
   "attachments": {},
   "cell_type": "markdown",
   "metadata": {},
   "source": [
    "# Juego de Estrategia: Batalla de Reinos\n",
    "\n",
    "### Descripción\n",
    "Bienvenido al juego **Batalla de Reinos**, un desafío de estrategia donde dos jugadores se enfrentan para conquistar el territorio enemigo.\n",
    "\n",
    "### Reglas del Juego\n",
    "1. Cada jugador controla un reino con su ejército y fortalezas.\n",
    "2. En cada turno, los jugadores pueden mover sus piezas o atacar.\n",
    "3. El objetivo es capturar el castillo del oponente.\n",
    "4. El juego termina cuando un jugador logra conquistar el castillo enemigo o se queda sin piezas móviles."
   ]
  },
  {
   "cell_type": "code",
   "execution_count": 14,
   "metadata": {},
   "outputs": [
    {
     "name": "stdout",
     "output_type": "stream",
     "text": [
      "    A   B   C   D   E   F   G   H\n",
      "  +---+---+---+---+---+---+---+---+\n",
      "1 |   |   |   |   |   |   |   |   |\n",
      "  +---+---+---+---+---+---+---+---+\n",
      "2 |   |   |   |   |   |   |   |   |\n",
      "  +---+---+---+---+---+---+---+---+\n",
      "3 |   |   |   |   |   |   |   |   |\n",
      "  +---+---+---+---+---+---+---+---+\n",
      "4 |   |   |   |   |   |   |   |   |\n",
      "  +---+---+---+---+---+---+---+---+\n",
      "5 |   |   |   |   |   |   |   |   |\n",
      "  +---+---+---+---+---+---+---+---+\n",
      "6 |   |   |   |   |   |   |   |   |\n",
      "  +---+---+---+---+---+---+---+---+\n",
      "7 |   |   |   |   |   |   |   |   |\n",
      "  +---+---+---+---+---+---+---+---+\n",
      "8 |   |   |   |   |   |   |   |   |\n",
      "  +---+---+---+---+---+---+---+---+\n"
     ]
    }
   ],
   "source": [
    "# Diseño del Tablero\n",
    "def mostrar_tablero():\n",
    "    print(\"    A   B   C   D   E   F   G   H\")\n",
    "    print(\"  +---+---+---+---+---+---+---+---+\")\n",
    "    for i in range(8):\n",
    "        fila = f\"{i+1} |\"\n",
    "        for j in range(8):\n",
    "            fila += \"   |\"\n",
    "        print(fila)\n",
    "        print(\"  +---+---+---+---+---+---+---+---+\")\n",
    "\n",
    "mostrar_tablero()"
   ]
  },
  {
   "attachments": {},
   "cell_type": "markdown",
   "metadata": {},
   "source": [
    "## Descripción de las Piezas\n",
    "Cada jugador tiene las siguientes piezas en su ejército:\n",
    "- **Soldado**: Puede moverse una casilla en cualquier dirección.\n",
    "- **Caballero**: Puede moverse dos casillas en cualquier dirección.\n",
    "- **Arquero**: Puede atacar a distancia.\n",
    "- **Castillo**: Es el objetivo a defender y conquistar."
   ]
  },
  {
   "cell_type": "code",
   "execution_count": 10,
   "metadata": {},
   "outputs": [
    {
     "name": "stdout",
     "output_type": "stream",
     "text": [
      "Soldado: [S]\n",
      "Caballero: [C]\n",
      "Arquero: [A]\n",
      "Castillo: [K]\n"
     ]
    }
   ],
   "source": [
    "# Diseño de las Piezas\n",
    "def mostrar_piezas():\n",
    "    print(\"Soldado: [S]\")\n",
    "    print(\"Caballero: [C]\")\n",
    "    print(\"Arquero: [A]\")\n",
    "    print(\"Castillo: [K]\")\n",
    "\n",
    "mostrar_piezas()"
   ]
  }
 ],
 "metadata": {
  "kernelspec": {
   "display_name": "Python 3",
   "language": "python",
   "name": "python3"
  },
  "language_info": {
   "codemirror_mode": {
    "name": "ipython",
    "version": 3
   },
   "file_extension": ".py",
   "mimetype": "text/x-python",
   "name": "python",
   "nbconvert_exporter": "python",
   "pygments_lexer": "ipython3",
   "version": "3.13.3"
  },
  "orig_nbformat": 4
 },
 "nbformat": 4,
 "nbformat_minor": 2
}
