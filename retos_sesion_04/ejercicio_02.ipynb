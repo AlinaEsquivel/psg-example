{
 "cells": [
  {
   "attachments": {},
   "cell_type": "markdown",
   "metadata": {},
   "source": [
    "# Crea un archivo \"ejercicio_02.ipynb\"\n",
    "\n",
    "Añade un texto en markdown con la descripción de este ejercicio y crea una imagen utilizando símbolos y prints\n",
    "\n",
    "**Símbolos:** * , () \\ | / o \" ' = C\n",
    "\n",
    "     \\    /\\\n",
    "      )  ( ´)\n",
    "     (  /  )\n",
    "      \\(__)||\n"
   ]
  }
 ],
 "metadata": {
  "language_info": {
   "name": "python"
  },
  "orig_nbformat": 4
 },
 "nbformat": 4,
 "nbformat_minor": 2
}
