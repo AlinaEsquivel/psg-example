{
 "cells": [
  {
   "cell_type": "code",
   "execution_count": 11,
   "metadata": {},
   "outputs": [
    {
     "name": "stdout",
     "output_type": "stream",
     "text": [
      "hola mundo, desde Notebook!\n",
      "    [] \n",
      "   [  ] \n",
      "  [    ] \n",
      " [      ] \n",
      " -------- \n",
      "   |  | \n"
     ]
    }
   ],
   "source": [
    "# Code 1\n",
    "print (\"hola mundo, desde Notebook!\")\n",
    "\n",
    "print (\"    [] \")\n",
    "print (\"   [  ] \")\n",
    "print (\"  [    ] \")\n",
    "print (\" [      ] \")\n",
    "print (\" -------- \")\n",
    "print (\"   |  | \")"
   ]
  },
  {
   "attachments": {},
   "cell_type": "markdown",
   "metadata": {},
   "source": [
    "# Sesion 04\n",
    "- Mi primer Notebook\n",
    "- Imprimir álbum\n",
    "- Crear Markdown\n",
    "- Subir a mi repositorio de Git\n",
    "- Poner una carita :'D, (porque no me sale un emogi xd)"
   ]
  }
 ],
 "metadata": {
  "kernelspec": {
   "display_name": "Python 3",
   "language": "python",
   "name": "python3"
  },
  "language_info": {
   "codemirror_mode": {
    "name": "ipython",
    "version": 3
   },
   "file_extension": ".py",
   "mimetype": "text/x-python",
   "name": "python",
   "nbconvert_exporter": "python",
   "pygments_lexer": "ipython3",
   "version": "3.13.3"
  },
  "orig_nbformat": 4
 },
 "nbformat": 4,
 "nbformat_minor": 2
}
